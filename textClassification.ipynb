{
  "nbformat": 4,
  "nbformat_minor": 0,
  "metadata": {
    "colab": {
      "provenance": []
    },
    "kernelspec": {
      "name": "python3",
      "display_name": "Python 3"
    },
    "language_info": {
      "name": "python"
    }
  },
  "cells": [
    {
      "cell_type": "markdown",
      "source": [
        "This Notebook is used to compute the accuracy of Traditional Machine Learning approaches on the Asian Prejudice dataset and the R-8 dataset."
      ],
      "metadata": {
        "id": "FyNvimIL8yrv"
      }
    },
    {
      "cell_type": "code",
      "execution_count": 1,
      "metadata": {
        "id": "98Ulm8XLL4sk"
      },
      "outputs": [],
      "source": [
        "import pandas as pd\n",
        "import numpy as np\n",
        "\n",
        "import seaborn as sns\n",
        "import matplotlib.pyplot as plt\n",
        "\n",
        "#for model-building\n",
        "from sklearn.model_selection import train_test_split\n",
        "from sklearn.linear_model import LogisticRegression\n",
        "from sklearn.linear_model import SGDClassifier\n",
        "from sklearn.naive_bayes import MultinomialNB\n",
        "from sklearn.metrics import classification_report, f1_score, accuracy_score, confusion_matrix\n",
        "from sklearn.metrics import roc_curve, auc, roc_auc_score\n",
        "\n",
        "# bag of words\n",
        "from sklearn.feature_extraction.text import TfidfVectorizer\n",
        "from sklearn.feature_extraction.text import CountVectorizer\n",
        "\n",
        "#for word embedding\n",
        "import gensim\n",
        "from gensim.models import Word2Vec #Word2Vec is mostly used for huge datasets"
      ]
    },
    {
      "cell_type": "code",
      "source": [
        "import pandas as pd\n",
        "  \n",
        "# read text file into pandas DataFrame and\n",
        "# create header\n",
        "df = pd.read_csv(\"twitter_asian_prejudice_sentences_clean.txt\", header=None)\n",
        "df.columns = ['a']\n",
        "# display DataFrame\n",
        "print(df)"
      ],
      "metadata": {
        "colab": {
          "base_uri": "https://localhost:8080/"
        },
        "id": "BWGJc4AujhsF",
        "outputId": "f2a44e2d-3a5f-4e8b-c8cc-a78fc3b0c8d7"
      },
      "execution_count": 2,
      "outputs": [
        {
          "output_type": "stream",
          "name": "stdout",
          "text": [
            "                                                       a\n",
            "0        cnn doubt china female hashtag_eastasia hashtag\n",
            "1      hashtag_eastasia happening behind live stream ...\n",
            "2                                         afraid hashtag\n",
            "3              rt mugisalty everybody wear masks hashtag\n",
            "4      rt makes remember sad days 2003 china covered ...\n",
            "...                                                  ...\n",
            "19994  marcorubio everything tweet true except one th...\n",
            "19995  gotta love bad chinese russian trolls try piss...\n",
            "19996  nytimes guess china checks must pretty impress...\n",
            "19997  hashtag_eastasia communist country led communi...\n",
            "19998  zlj517 hey hashtag_eastasia_virus learn write ...\n",
            "\n",
            "[19999 rows x 1 columns]\n"
          ]
        }
      ]
    },
    {
      "cell_type": "code",
      "source": [
        "df_label = pd.read_csv(\"twitter_asian_prejudice_labels.txt\", header=None)\n",
        "df_label.columns = ['b']\n",
        "\n",
        "df_label"
      ],
      "metadata": {
        "colab": {
          "base_uri": "https://localhost:8080/",
          "height": 419
        },
        "id": "AZdbZ2ftGQJg",
        "outputId": "836abfee-19aa-44ec-ecfd-dcc5e031fd46"
      },
      "execution_count": 3,
      "outputs": [
        {
          "output_type": "execute_result",
          "data": {
            "text/plain": [
              "                               b\n",
              "0              none_of_the_above\n",
              "1              none_of_the_above\n",
              "2              none_of_the_above\n",
              "3              none_of_the_above\n",
              "4      entity_directed_hostility\n",
              "...                          ...\n",
              "19995  entity_directed_hostility\n",
              "19996  entity_directed_hostility\n",
              "19997  entity_directed_hostility\n",
              "19998  entity_directed_criticism\n",
              "19999  entity_directed_hostility\n",
              "\n",
              "[20000 rows x 1 columns]"
            ],
            "text/html": [
              "\n",
              "  <div id=\"df-9e7e1992-bfc7-4720-b310-4f9262fe894b\">\n",
              "    <div class=\"colab-df-container\">\n",
              "      <div>\n",
              "<style scoped>\n",
              "    .dataframe tbody tr th:only-of-type {\n",
              "        vertical-align: middle;\n",
              "    }\n",
              "\n",
              "    .dataframe tbody tr th {\n",
              "        vertical-align: top;\n",
              "    }\n",
              "\n",
              "    .dataframe thead th {\n",
              "        text-align: right;\n",
              "    }\n",
              "</style>\n",
              "<table border=\"1\" class=\"dataframe\">\n",
              "  <thead>\n",
              "    <tr style=\"text-align: right;\">\n",
              "      <th></th>\n",
              "      <th>b</th>\n",
              "    </tr>\n",
              "  </thead>\n",
              "  <tbody>\n",
              "    <tr>\n",
              "      <th>0</th>\n",
              "      <td>none_of_the_above</td>\n",
              "    </tr>\n",
              "    <tr>\n",
              "      <th>1</th>\n",
              "      <td>none_of_the_above</td>\n",
              "    </tr>\n",
              "    <tr>\n",
              "      <th>2</th>\n",
              "      <td>none_of_the_above</td>\n",
              "    </tr>\n",
              "    <tr>\n",
              "      <th>3</th>\n",
              "      <td>none_of_the_above</td>\n",
              "    </tr>\n",
              "    <tr>\n",
              "      <th>4</th>\n",
              "      <td>entity_directed_hostility</td>\n",
              "    </tr>\n",
              "    <tr>\n",
              "      <th>...</th>\n",
              "      <td>...</td>\n",
              "    </tr>\n",
              "    <tr>\n",
              "      <th>19995</th>\n",
              "      <td>entity_directed_hostility</td>\n",
              "    </tr>\n",
              "    <tr>\n",
              "      <th>19996</th>\n",
              "      <td>entity_directed_hostility</td>\n",
              "    </tr>\n",
              "    <tr>\n",
              "      <th>19997</th>\n",
              "      <td>entity_directed_hostility</td>\n",
              "    </tr>\n",
              "    <tr>\n",
              "      <th>19998</th>\n",
              "      <td>entity_directed_criticism</td>\n",
              "    </tr>\n",
              "    <tr>\n",
              "      <th>19999</th>\n",
              "      <td>entity_directed_hostility</td>\n",
              "    </tr>\n",
              "  </tbody>\n",
              "</table>\n",
              "<p>20000 rows × 1 columns</p>\n",
              "</div>\n",
              "      <button class=\"colab-df-convert\" onclick=\"convertToInteractive('df-9e7e1992-bfc7-4720-b310-4f9262fe894b')\"\n",
              "              title=\"Convert this dataframe to an interactive table.\"\n",
              "              style=\"display:none;\">\n",
              "        \n",
              "  <svg xmlns=\"http://www.w3.org/2000/svg\" height=\"24px\"viewBox=\"0 0 24 24\"\n",
              "       width=\"24px\">\n",
              "    <path d=\"M0 0h24v24H0V0z\" fill=\"none\"/>\n",
              "    <path d=\"M18.56 5.44l.94 2.06.94-2.06 2.06-.94-2.06-.94-.94-2.06-.94 2.06-2.06.94zm-11 1L8.5 8.5l.94-2.06 2.06-.94-2.06-.94L8.5 2.5l-.94 2.06-2.06.94zm10 10l.94 2.06.94-2.06 2.06-.94-2.06-.94-.94-2.06-.94 2.06-2.06.94z\"/><path d=\"M17.41 7.96l-1.37-1.37c-.4-.4-.92-.59-1.43-.59-.52 0-1.04.2-1.43.59L10.3 9.45l-7.72 7.72c-.78.78-.78 2.05 0 2.83L4 21.41c.39.39.9.59 1.41.59.51 0 1.02-.2 1.41-.59l7.78-7.78 2.81-2.81c.8-.78.8-2.07 0-2.86zM5.41 20L4 18.59l7.72-7.72 1.47 1.35L5.41 20z\"/>\n",
              "  </svg>\n",
              "      </button>\n",
              "      \n",
              "  <style>\n",
              "    .colab-df-container {\n",
              "      display:flex;\n",
              "      flex-wrap:wrap;\n",
              "      gap: 12px;\n",
              "    }\n",
              "\n",
              "    .colab-df-convert {\n",
              "      background-color: #E8F0FE;\n",
              "      border: none;\n",
              "      border-radius: 50%;\n",
              "      cursor: pointer;\n",
              "      display: none;\n",
              "      fill: #1967D2;\n",
              "      height: 32px;\n",
              "      padding: 0 0 0 0;\n",
              "      width: 32px;\n",
              "    }\n",
              "\n",
              "    .colab-df-convert:hover {\n",
              "      background-color: #E2EBFA;\n",
              "      box-shadow: 0px 1px 2px rgba(60, 64, 67, 0.3), 0px 1px 3px 1px rgba(60, 64, 67, 0.15);\n",
              "      fill: #174EA6;\n",
              "    }\n",
              "\n",
              "    [theme=dark] .colab-df-convert {\n",
              "      background-color: #3B4455;\n",
              "      fill: #D2E3FC;\n",
              "    }\n",
              "\n",
              "    [theme=dark] .colab-df-convert:hover {\n",
              "      background-color: #434B5C;\n",
              "      box-shadow: 0px 1px 3px 1px rgba(0, 0, 0, 0.15);\n",
              "      filter: drop-shadow(0px 1px 2px rgba(0, 0, 0, 0.3));\n",
              "      fill: #FFFFFF;\n",
              "    }\n",
              "  </style>\n",
              "\n",
              "      <script>\n",
              "        const buttonEl =\n",
              "          document.querySelector('#df-9e7e1992-bfc7-4720-b310-4f9262fe894b button.colab-df-convert');\n",
              "        buttonEl.style.display =\n",
              "          google.colab.kernel.accessAllowed ? 'block' : 'none';\n",
              "\n",
              "        async function convertToInteractive(key) {\n",
              "          const element = document.querySelector('#df-9e7e1992-bfc7-4720-b310-4f9262fe894b');\n",
              "          const dataTable =\n",
              "            await google.colab.kernel.invokeFunction('convertToInteractive',\n",
              "                                                     [key], {});\n",
              "          if (!dataTable) return;\n",
              "\n",
              "          const docLinkHtml = 'Like what you see? Visit the ' +\n",
              "            '<a target=\"_blank\" href=https://colab.research.google.com/notebooks/data_table.ipynb>data table notebook</a>'\n",
              "            + ' to learn more about interactive tables.';\n",
              "          element.innerHTML = '';\n",
              "          dataTable['output_type'] = 'display_data';\n",
              "          await google.colab.output.renderOutput(dataTable, element);\n",
              "          const docLink = document.createElement('div');\n",
              "          docLink.innerHTML = docLinkHtml;\n",
              "          element.appendChild(docLink);\n",
              "        }\n",
              "      </script>\n",
              "    </div>\n",
              "  </div>\n",
              "  "
            ]
          },
          "metadata": {},
          "execution_count": 3
        }
      ]
    },
    {
      "cell_type": "code",
      "source": [
        "#from google.colab import files\n",
        "#result.to_csv('data.csv', encoding = 'utf-8-sig') \n",
        "#files.download('data.csv')\n",
        "\n"
      ],
      "metadata": {
        "id": "QtVAUKNUPHHq"
      },
      "execution_count": 4,
      "outputs": []
    },
    {
      "cell_type": "code",
      "source": [
        "result = pd.concat([df, df_label[:-1]], axis=1)\n",
        "result = result[result.b != 'counter_speech']\n"
      ],
      "metadata": {
        "id": "j1Jn6JczPQ2Z"
      },
      "execution_count": 5,
      "outputs": []
    },
    {
      "cell_type": "code",
      "source": [
        "from sklearn.feature_extraction.text import CountVectorizer,TfidfVectorizer\n",
        "vectorizer = CountVectorizer()\n",
        "df1 = vectorizer.fit_transform(result['a'])\n",
        "\n",
        "vectorizer1 = TfidfVectorizer()\n",
        "df2 = vectorizer1.fit_transform(result['a'])"
      ],
      "metadata": {
        "id": "-A2f0os5-EId"
      },
      "execution_count": 6,
      "outputs": []
    },
    {
      "cell_type": "code",
      "source": [
        "from sklearn.model_selection import train_test_split\n",
        "#X_train, X_test, y_train, y_test = train_test_split(df1,result['b'],test_size=0.2,shuffle=True)\n",
        "X_train, X_test, y_train, y_test = train_test_split(df2,result['b'],test_size=0.2,shuffle=True)"
      ],
      "metadata": {
        "id": "b3hW0JTLPVnb"
      },
      "execution_count": 7,
      "outputs": []
    },
    {
      "cell_type": "code",
      "source": [
        "#FITTING THE CLASSIFICATION MODEL using Logistic Regression(tf-idf)\n",
        "from sklearn.linear_model import LogisticRegression\n",
        "from sklearn.naive_bayes import MultinomialNB\n",
        "from sklearn.metrics import classification_report,confusion_matrix,roc_curve,auc \n",
        "\n",
        "lr_tfidf=LogisticRegression(solver = 'liblinear', C=10, penalty = 'l2')\n",
        "\n",
        "\n",
        "\n",
        "lr_tfidf.fit(X_train, y_train)  #model\n",
        "\n",
        "#Predict y value for test dataset\n",
        "y_predict = lr_tfidf.predict(X_test)\n",
        "y_prob = lr_tfidf.predict_proba(X_test)[:,1]\n",
        " \n",
        "\n",
        "print(classification_report(y_test,y_predict))\n",
        "print('Confusion Matrix:',confusion_matrix(y_test, y_predict))\n",
        "\n",
        "'''\n",
        "fpr, tpr, thresholds = roc_curve(y_test, y_prob)\n",
        "roc_auc = auc(fpr, tpr)\n",
        "print('AUC:', roc_auc)  '''"
      ],
      "metadata": {
        "colab": {
          "base_uri": "https://localhost:8080/",
          "height": 292
        },
        "id": "vLcjQEWDN9Qv",
        "outputId": "06b86c1d-bff1-4101-c9a5-aac9f088e5ba"
      },
      "execution_count": 8,
      "outputs": [
        {
          "output_type": "stream",
          "name": "stdout",
          "text": [
            "                                   precision    recall  f1-score   support\n",
            "\n",
            "discussion_of_eastasian_prejudice       0.14      0.04      0.06       179\n",
            "        entity_directed_criticism       0.05      0.01      0.02       279\n",
            "        entity_directed_hostility       0.23      0.13      0.16       799\n",
            "                none_of_the_above       0.69      0.87      0.77      2720\n",
            "\n",
            "                         accuracy                           0.62      3977\n",
            "                        macro avg       0.28      0.26      0.25      3977\n",
            "                     weighted avg       0.53      0.62      0.56      3977\n",
            "\n",
            "Confusion Matrix: [[   7    2   15  155]\n",
            " [   3    3   35  238]\n",
            " [  11   17  100  671]\n",
            " [  30   36  288 2366]]\n"
          ]
        },
        {
          "output_type": "execute_result",
          "data": {
            "text/plain": [
              "\"\\nfpr, tpr, thresholds = roc_curve(y_test, y_prob)\\nroc_auc = auc(fpr, tpr)\\nprint('AUC:', roc_auc)  \""
            ],
            "application/vnd.google.colaboratory.intrinsic+json": {
              "type": "string"
            }
          },
          "metadata": {},
          "execution_count": 8
        }
      ]
    },
    {
      "cell_type": "code",
      "source": [
        "mnb = MultinomialNB()\n",
        "mnb.fit(X_train, y_train)\n",
        "#Predict y value for test dataset\n",
        "y_predict = mnb.predict(X_test)\n",
        "\n",
        "print(classification_report(y_test,y_predict))\n",
        "print('Confusion Matrix:',confusion_matrix(y_test, y_predict))"
      ],
      "metadata": {
        "colab": {
          "base_uri": "https://localhost:8080/"
        },
        "id": "LQ-RSQnOKOmY",
        "outputId": "e26954c1-69ee-4c69-b92e-0228ae851f78"
      },
      "execution_count": 9,
      "outputs": [
        {
          "output_type": "stream",
          "name": "stderr",
          "text": [
            "/usr/local/lib/python3.9/dist-packages/sklearn/metrics/_classification.py:1344: UndefinedMetricWarning: Precision and F-score are ill-defined and being set to 0.0 in labels with no predicted samples. Use `zero_division` parameter to control this behavior.\n",
            "  _warn_prf(average, modifier, msg_start, len(result))\n",
            "/usr/local/lib/python3.9/dist-packages/sklearn/metrics/_classification.py:1344: UndefinedMetricWarning: Precision and F-score are ill-defined and being set to 0.0 in labels with no predicted samples. Use `zero_division` parameter to control this behavior.\n",
            "  _warn_prf(average, modifier, msg_start, len(result))\n",
            "/usr/local/lib/python3.9/dist-packages/sklearn/metrics/_classification.py:1344: UndefinedMetricWarning: Precision and F-score are ill-defined and being set to 0.0 in labels with no predicted samples. Use `zero_division` parameter to control this behavior.\n",
            "  _warn_prf(average, modifier, msg_start, len(result))\n"
          ]
        },
        {
          "output_type": "stream",
          "name": "stdout",
          "text": [
            "                                   precision    recall  f1-score   support\n",
            "\n",
            "discussion_of_eastasian_prejudice       0.00      0.00      0.00       179\n",
            "        entity_directed_criticism       0.00      0.00      0.00       279\n",
            "        entity_directed_hostility       0.47      0.01      0.02       799\n",
            "                none_of_the_above       0.68      1.00      0.81      2720\n",
            "\n",
            "                         accuracy                           0.68      3977\n",
            "                        macro avg       0.29      0.25      0.21      3977\n",
            "                     weighted avg       0.56      0.68      0.56      3977\n",
            "\n",
            "Confusion Matrix: [[   0    0    0  179]\n",
            " [   0    0    0  279]\n",
            " [   0    0    8  791]\n",
            " [   0    0    9 2711]]\n"
          ]
        }
      ]
    },
    {
      "cell_type": "code",
      "source": [
        "from sklearn.ensemble import RandomForestClassifier\n",
        "\n",
        "mnb = RandomForestClassifier()\n",
        "mnb.fit(X_train, y_train)\n",
        "#Predict y value for test dataset\n",
        "y_predict = mnb.predict(X_test)\n",
        "\n",
        "print(classification_report(y_test,y_predict))\n",
        "print('Confusion Matrix:',confusion_matrix(y_test, y_predict))"
      ],
      "metadata": {
        "colab": {
          "base_uri": "https://localhost:8080/"
        },
        "id": "Ft0B5yKUVg-O",
        "outputId": "6faa39d2-cd56-4d71-f4f0-3df602a126e8"
      },
      "execution_count": 10,
      "outputs": [
        {
          "output_type": "stream",
          "name": "stdout",
          "text": [
            "                                   precision    recall  f1-score   support\n",
            "\n",
            "discussion_of_eastasian_prejudice       0.00      0.00      0.00       179\n",
            "        entity_directed_criticism       0.00      0.00      0.00       279\n",
            "        entity_directed_hostility       0.28      0.02      0.03       799\n",
            "                none_of_the_above       0.69      0.99      0.81      2720\n",
            "\n",
            "                         accuracy                           0.68      3977\n",
            "                        macro avg       0.24      0.25      0.21      3977\n",
            "                     weighted avg       0.52      0.68      0.56      3977\n",
            "\n",
            "Confusion Matrix: [[   0    1    2  176]\n",
            " [   0    0    2  277]\n",
            " [   5    2   13  779]\n",
            " [   3    6   30 2681]]\n"
          ]
        }
      ]
    },
    {
      "cell_type": "code",
      "source": [
        "from sklearn.svm import SVC\n",
        "\n",
        "svc = SVC()\n",
        "svc.fit(X_train, y_train)\n",
        "#Predict y value for test dataset\n",
        "y_predict = svc.predict(X_test)\n",
        "\n",
        "print(classification_report(y_test,y_predict))\n",
        "print('Confusion Matrix:',confusion_matrix(y_test, y_predict))"
      ],
      "metadata": {
        "id": "sDRO44DUBxMn",
        "colab": {
          "base_uri": "https://localhost:8080/"
        },
        "outputId": "716765ec-3b9c-4794-8eb1-b0cc74f12f86"
      },
      "execution_count": 11,
      "outputs": [
        {
          "output_type": "stream",
          "name": "stdout",
          "text": [
            "                                   precision    recall  f1-score   support\n",
            "\n",
            "discussion_of_eastasian_prejudice       0.00      0.00      0.00       179\n",
            "        entity_directed_criticism       0.00      0.00      0.00       279\n",
            "        entity_directed_hostility       0.53      0.01      0.02       799\n",
            "                none_of_the_above       0.69      1.00      0.81      2720\n",
            "\n",
            "                         accuracy                           0.68      3977\n",
            "                        macro avg       0.30      0.25      0.21      3977\n",
            "                     weighted avg       0.58      0.68      0.56      3977\n",
            "\n",
            "Confusion Matrix: [[   0    0    1  178]\n",
            " [   0    0    1  278]\n",
            " [   0    1    8  790]\n",
            " [   0    0    5 2715]]\n"
          ]
        },
        {
          "output_type": "stream",
          "name": "stderr",
          "text": [
            "/usr/local/lib/python3.9/dist-packages/sklearn/metrics/_classification.py:1344: UndefinedMetricWarning: Precision and F-score are ill-defined and being set to 0.0 in labels with no predicted samples. Use `zero_division` parameter to control this behavior.\n",
            "  _warn_prf(average, modifier, msg_start, len(result))\n",
            "/usr/local/lib/python3.9/dist-packages/sklearn/metrics/_classification.py:1344: UndefinedMetricWarning: Precision and F-score are ill-defined and being set to 0.0 in labels with no predicted samples. Use `zero_division` parameter to control this behavior.\n",
            "  _warn_prf(average, modifier, msg_start, len(result))\n",
            "/usr/local/lib/python3.9/dist-packages/sklearn/metrics/_classification.py:1344: UndefinedMetricWarning: Precision and F-score are ill-defined and being set to 0.0 in labels with no predicted samples. Use `zero_division` parameter to control this behavior.\n",
            "  _warn_prf(average, modifier, msg_start, len(result))\n"
          ]
        }
      ]
    },
    {
      "cell_type": "code",
      "source": [
        "import pandas as pd\n",
        "  \n",
        "  \n",
        "# read text file into pandas DataFrame and\n",
        "# create header\n",
        "df3 = pd.read_csv(\"r8_sentences_clean.txt\", header=None)\n",
        "df3.columns = ['a']\n",
        "# display DataFrame\n",
        "print(df3)"
      ],
      "metadata": {
        "colab": {
          "base_uri": "https://localhost:8080/"
        },
        "id": "L-LEAomqBxWz",
        "outputId": "74b7aaa5-394d-417e-db6c-da82ccf6b92e"
      },
      "execution_count": 12,
      "outputs": [
        {
          "output_type": "stream",
          "name": "stdout",
          "text": [
            "                                                      a\n",
            "0     champion products approves stock split champio...\n",
            "1     computer terminal systems completes sale compu...\n",
            "2     inc year net shr cts vs dlrs net vs assets mln...\n",
            "3     international inc nd qtr jan oper shr loss two...\n",
            "4     brown forman inc th qtr net shr one dlr vs cts...\n",
            "...                                                 ...\n",
            "7669  balladur maintenance louvre accords french fin...\n",
            "7670  philippine trade gap widens january august phi...\n",
            "7671  iran soviet union swap crude refined products ...\n",
            "7672  n z chase corp makes offer entregrowth chase c...\n",
            "7673  japan india conference cuts gulf war risk char...\n",
            "\n",
            "[7674 rows x 1 columns]\n"
          ]
        }
      ]
    },
    {
      "cell_type": "code",
      "source": [
        "df4 = pd.read_csv(\"r8_labels.txt\", sep=\"\\t\", header=None)\n",
        "df4.columns = ['b','c','d']\n",
        "# display DataFrame\n",
        "print(df4)"
      ],
      "metadata": {
        "colab": {
          "base_uri": "https://localhost:8080/"
        },
        "id": "4xd-hwKaCDc6",
        "outputId": "ef12c3e8-2553-4865-cbf5-8bc522eb3f9f"
      },
      "execution_count": 13,
      "outputs": [
        {
          "output_type": "stream",
          "name": "stdout",
          "text": [
            "         b      c         d\n",
            "0        0  train      earn\n",
            "1        1  train       acq\n",
            "2        2  train      earn\n",
            "3        3  train      earn\n",
            "4        4  train      earn\n",
            "...    ...    ...       ...\n",
            "7669  7669   test  money-fx\n",
            "7670  7670   test     trade\n",
            "7671  7671   test     crude\n",
            "7672  7672   test       acq\n",
            "7673  7673   test      ship\n",
            "\n",
            "[7674 rows x 3 columns]\n"
          ]
        }
      ]
    },
    {
      "cell_type": "code",
      "source": [
        "result2 = pd.concat([df3, df4], axis=1)\n",
        "result2 = result2.drop('b', axis=1)\n",
        "result3 = result2.drop('c', axis=1)\n",
        "vectorizer = CountVectorizer()\n",
        "\n",
        "df5 = vectorizer.fit_transform(result3['a'])\n",
        "#X_train, X_test, y_train, y_test = train_test_split(df1,result['b'],test_size=0.2,shuffle=True)\n",
        "X_train, X_test, y_train, y_test = train_test_split(df5,result3['d'],test_size=0.2,shuffle=True)\n"
      ],
      "metadata": {
        "id": "w3dZTRqwCQZd"
      },
      "execution_count": 14,
      "outputs": []
    },
    {
      "cell_type": "code",
      "source": [
        "from sklearn.feature_extraction.text import CountVectorizer,TfidfVectorizer\n",
        "lr_tfidf=LogisticRegression(solver = 'liblinear', C=10, penalty = 'l2')\n",
        "\n",
        "\n",
        "\n",
        "lr_tfidf.fit(X_train, y_train)  #model\n",
        "\n",
        "#Predict y value for test dataset\n",
        "y_predict = lr_tfidf.predict(X_test)\n",
        "y_prob = lr_tfidf.predict_proba(X_test)[:,1]\n",
        " \n",
        "\n",
        "print(classification_report(y_test,y_predict))\n",
        "print('Confusion Matrix:',confusion_matrix(y_test, y_predict))\n"
      ],
      "metadata": {
        "colab": {
          "base_uri": "https://localhost:8080/"
        },
        "id": "UueA-3pqrecg",
        "outputId": "2fede14e-9b56-4e22-b4de-680fabe33ede"
      },
      "execution_count": 15,
      "outputs": [
        {
          "output_type": "stream",
          "name": "stdout",
          "text": [
            "              precision    recall  f1-score   support\n",
            "\n",
            "         acq       0.97      0.99      0.98       460\n",
            "       crude       1.00      0.93      0.96        73\n",
            "        earn       0.99      0.99      0.99       776\n",
            "       grain       1.00      0.73      0.84        11\n",
            "    interest       0.86      0.93      0.89        55\n",
            "    money-fx       0.91      0.83      0.87        64\n",
            "        ship       0.96      0.90      0.93        29\n",
            "       trade       0.93      0.97      0.95        67\n",
            "\n",
            "    accuracy                           0.97      1535\n",
            "   macro avg       0.95      0.91      0.93      1535\n",
            "weighted avg       0.97      0.97      0.97      1535\n",
            "\n",
            "Confusion Matrix: [[456   0   3   0   0   1   0   0]\n",
            " [  4  68   0   0   0   0   1   0]\n",
            " [  9   0 767   0   0   0   0   0]\n",
            " [  0   0   0   8   1   1   0   1]\n",
            " [  0   0   0   0  51   3   0   1]\n",
            " [  1   0   2   0   7  53   0   1]\n",
            " [  1   0   0   0   0   0  26   2]\n",
            " [  1   0   1   0   0   0   0  65]]\n"
          ]
        }
      ]
    },
    {
      "cell_type": "code",
      "source": [
        "mnb = MultinomialNB()\n",
        "mnb.fit(X_train, y_train)\n",
        "#Predict y value for test dataset\n",
        "y_predict = mnb.predict(X_test)\n",
        "\n",
        "print(classification_report(y_test,y_predict))\n",
        "print('Confusion Matrix:',confusion_matrix(y_test, y_predict))"
      ],
      "metadata": {
        "colab": {
          "base_uri": "https://localhost:8080/"
        },
        "id": "40G4ucf7u56w",
        "outputId": "6a37483e-1fba-4827-9df9-f1cfeb432982"
      },
      "execution_count": 16,
      "outputs": [
        {
          "output_type": "stream",
          "name": "stdout",
          "text": [
            "              precision    recall  f1-score   support\n",
            "\n",
            "         acq       0.91      0.98      0.95       460\n",
            "       crude       0.92      0.99      0.95        73\n",
            "        earn       1.00      0.93      0.96       776\n",
            "       grain       0.89      0.73      0.80        11\n",
            "    interest       0.76      0.85      0.80        55\n",
            "    money-fx       0.81      0.81      0.81        64\n",
            "        ship       0.93      0.97      0.95        29\n",
            "       trade       0.88      0.96      0.91        67\n",
            "\n",
            "    accuracy                           0.94      1535\n",
            "   macro avg       0.89      0.90      0.89      1535\n",
            "weighted avg       0.95      0.94      0.94      1535\n",
            "\n",
            "Confusion Matrix: [[452   1   1   0   0   1   1   4]\n",
            " [  1  72   0   0   0   0   0   0]\n",
            " [ 40   4 724   1   4   1   1   1]\n",
            " [  0   0   0   8   1   0   0   2]\n",
            " [  0   0   0   0  47   7   0   1]\n",
            " [  1   0   0   0  10  52   0   1]\n",
            " [  0   1   0   0   0   0  28   0]\n",
            " [  0   0   0   0   0   3   0  64]]\n"
          ]
        }
      ]
    },
    {
      "cell_type": "code",
      "source": [
        "from sklearn.ensemble import RandomForestClassifier\n",
        "\n",
        "rfc = RandomForestClassifier()\n",
        "rfc.fit(X_train, y_train)\n",
        "#Predict y value for test dataset\n",
        "y_predict = rfc.predict(X_test)\n",
        "\n",
        "print(classification_report(y_test,y_predict))\n",
        "print('Confusion Matrix:',confusion_matrix(y_test, y_predict))"
      ],
      "metadata": {
        "id": "HIBT9MRuMpR4",
        "colab": {
          "base_uri": "https://localhost:8080/"
        },
        "outputId": "ef3dfc39-3828-4fad-cee4-86bd5daf3910"
      },
      "execution_count": 17,
      "outputs": [
        {
          "output_type": "stream",
          "name": "stdout",
          "text": [
            "              precision    recall  f1-score   support\n",
            "\n",
            "         acq       0.89      0.99      0.93       460\n",
            "       crude       0.98      0.84      0.90        73\n",
            "        earn       0.99      0.97      0.98       776\n",
            "       grain       1.00      0.27      0.43        11\n",
            "    interest       0.84      0.84      0.84        55\n",
            "    money-fx       0.91      0.77      0.83        64\n",
            "        ship       1.00      0.52      0.68        29\n",
            "       trade       0.89      0.94      0.91        67\n",
            "\n",
            "    accuracy                           0.94      1535\n",
            "   macro avg       0.94      0.77      0.81      1535\n",
            "weighted avg       0.94      0.94      0.94      1535\n",
            "\n",
            "Confusion Matrix: [[455   0   5   0   0   0   0   0]\n",
            " [ 12  61   0   0   0   0   0   0]\n",
            " [ 24   0 752   0   0   0   0   0]\n",
            " [  3   0   1   3   1   0   0   3]\n",
            " [  3   0   1   0  46   3   0   2]\n",
            " [  4   0   2   0   8  49   0   1]\n",
            " [ 11   1   0   0   0   0  15   2]\n",
            " [  2   0   0   0   0   2   0  63]]\n"
          ]
        }
      ]
    },
    {
      "cell_type": "code",
      "source": [
        "from sklearn.svm import SVC\n",
        "\n",
        "svc = SVC()\n",
        "svc.fit(X_train, y_train)\n",
        "#Predict y value for test dataset\n",
        "y_predict = svc.predict(X_test)\n",
        "\n",
        "print(classification_report(y_test,y_predict))\n",
        "print('Confusion Matrix:',confusion_matrix(y_test, y_predict))"
      ],
      "metadata": {
        "colab": {
          "base_uri": "https://localhost:8080/"
        },
        "id": "Zspr5gX2TppO",
        "outputId": "1159dc94-5099-4837-d537-2a4daba4f080"
      },
      "execution_count": 18,
      "outputs": [
        {
          "output_type": "stream",
          "name": "stdout",
          "text": [
            "              precision    recall  f1-score   support\n",
            "\n",
            "         acq       0.79      0.99      0.88       460\n",
            "       crude       1.00      0.81      0.89        73\n",
            "        earn       0.99      0.95      0.97       776\n",
            "       grain       1.00      0.18      0.31        11\n",
            "    interest       0.87      0.71      0.78        55\n",
            "    money-fx       1.00      0.52      0.68        64\n",
            "        ship       0.95      0.66      0.78        29\n",
            "       trade       0.96      0.69      0.80        67\n",
            "\n",
            "    accuracy                           0.91      1535\n",
            "   macro avg       0.94      0.69      0.76      1535\n",
            "weighted avg       0.92      0.91      0.90      1535\n",
            "\n",
            "Confusion Matrix: [[457   0   3   0   0   0   0   0]\n",
            " [ 13  59   0   0   0   0   1   0]\n",
            " [ 38   0 738   0   0   0   0   0]\n",
            " [  7   0   1   2   0   0   0   1]\n",
            " [ 14   0   1   0  39   0   0   1]\n",
            " [ 24   0   1   0   6  33   0   0]\n",
            " [  8   0   2   0   0   0  19   0]\n",
            " [ 20   0   1   0   0   0   0  46]]\n"
          ]
        }
      ]
    }
  ]
}